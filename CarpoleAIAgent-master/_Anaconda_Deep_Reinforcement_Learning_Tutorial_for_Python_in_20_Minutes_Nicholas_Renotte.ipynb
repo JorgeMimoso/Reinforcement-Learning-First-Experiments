{
 "cells": [
  {
   "cell_type": "markdown",
   "id": "yellow-commerce",
   "metadata": {
    "id": "yellow-commerce"
   },
   "source": [
    "# 0. Install Dependencies\n",
    "\n",
    "\n",
    "\n"
   ]
  },
  {
   "cell_type": "code",
   "execution_count": 27,
   "id": "western-citation",
   "metadata": {
    "colab": {
     "base_uri": "https://localhost:8080/"
    },
    "id": "western-citation",
    "outputId": "516ee306-d7af-4c4b-eb28-5b97760d49cd"
   },
   "outputs": [],
   "source": [
    "#pip install rl-agents==0.1.1\n",
    "#!pip install tensorflow\n",
    "#!pip install gym\n",
    "#!pip install keras\n",
    "#!pip install keras-rl2\n",
    "#!pip install pygame"
   ]
  },
  {
   "cell_type": "markdown",
   "id": "accomplished-armenia",
   "metadata": {
    "id": "accomplished-armenia"
   },
   "source": [
    "# 1. Test Random Environment with OpenAI Gym\n",
    "\n",
    "\n"
   ]
  },
  {
   "cell_type": "code",
   "execution_count": 28,
   "id": "hindu-ceremony",
   "metadata": {
    "id": "hindu-ceremony"
   },
   "outputs": [],
   "source": [
    "import gym\n",
    "import random"
   ]
  },
  {
   "cell_type": "code",
   "execution_count": 29,
   "id": "russian-nudist",
   "metadata": {
    "colab": {
     "base_uri": "https://localhost:8080/"
    },
    "id": "russian-nudist",
    "outputId": "2f586ecf-171a-4f6a-a07c-22dae849dc99"
   },
   "outputs": [],
   "source": [
    "#Game being used\n",
    "env = gym.make('CartPole-v1')# -> gym.openai.com/#envs\n",
    "\n",
    "states = env.observation_space.shape[0]\n",
    "\n",
    "#Number of actions available. In the current case there are only 2 (left or right) that will move the cart\n",
    "actions = env.action_space.n"
   ]
  },
  {
   "cell_type": "code",
   "execution_count": 30,
   "id": "detected-registration",
   "metadata": {
    "colab": {
     "base_uri": "https://localhost:8080/"
    },
    "id": "detected-registration",
    "outputId": "8658c2a8-d8ea-4000-f60f-6094909da73d",
    "scrolled": false
   },
   "outputs": [
    {
     "name": "stdout",
     "output_type": "stream",
     "text": [
      "4\n",
      "2\n"
     ]
    }
   ],
   "source": [
    "print(states)\n",
    "print(actions)"
   ]
  },
  {
   "cell_type": "code",
   "execution_count": 31,
   "id": "atmospheric-intersection",
   "metadata": {
    "colab": {
     "base_uri": "https://localhost:8080/",
     "height": 953
    },
    "id": "atmospheric-intersection",
    "outputId": "c2153fef-def2-4971-9d35-1dec7c9d436b"
   },
   "outputs": [
    {
     "name": "stdout",
     "output_type": "stream",
     "text": [
      "Episode:1 Score:30.0\n",
      "Episode:2 Score:23.0\n",
      "Episode:3 Score:35.0\n",
      "Episode:4 Score:15.0\n",
      "Episode:5 Score:25.0\n",
      "Episode:6 Score:30.0\n",
      "Episode:7 Score:24.0\n",
      "Episode:8 Score:26.0\n",
      "Episode:9 Score:12.0\n",
      "Episode:10 Score:14.0\n"
     ]
    }
   ],
   "source": [
    "#Env setting with random behaviour\n",
    "episodes = 10\n",
    "for episode in range(1,episodes+1):\n",
    "    state = env.reset()\n",
    "    done = False\n",
    "    score = 0\n",
    "    \n",
    "    while not done:\n",
    "        env.render()\n",
    "        action = random.choice([0,1])\n",
    "        #print(env.step(action))\n",
    "        n_state, reward, done, info = env.step(action)\n",
    "        score+=reward\n",
    "    print('Episode:{} Score:{}'.format(episode,score))\n",
    "\n",
    "env.close()"
   ]
  },
  {
   "cell_type": "markdown",
   "id": "blocked-edgar",
   "metadata": {
    "id": "blocked-edgar"
   },
   "source": [
    "# 2. Create a Deep Learning Model with Keras"
   ]
  },
  {
   "cell_type": "code",
   "execution_count": 32,
   "id": "infectious-smile",
   "metadata": {
    "id": "infectious-smile"
   },
   "outputs": [],
   "source": [
    "import numpy as np\n",
    "\n",
    "from tensorflow.keras.models import Sequential\n",
    "from tensorflow.keras.layers import Dense,Flatten\n",
    "from tensorflow.keras.optimizers.legacy import Adam\n",
    "\n",
    "from rl.agents import DQNAgent #check diferent agents -> https://keras-rl.readthedocs.io/en/latest/\n",
    "from rl.policy import BoltzmannQPolicy\n",
    "from rl.memory import SequentialMemory"
   ]
  },
  {
   "cell_type": "code",
   "execution_count": 33,
   "id": "4pGN9CZ8D9-c",
   "metadata": {
    "id": "4pGN9CZ8D9-c"
   },
   "outputs": [],
   "source": [
    "def build_model(states, actions):\n",
    "    model = Sequential()\n",
    "    model.add(Flatten(input_shape=(1,4)))\n",
    "    model.add(Dense(24,activation='relu'))\n",
    "    model.add(Dense(24,activation='relu'))\n",
    "    model.add(Dense(actions,activation='linear'))\n",
    "    return model"
   ]
  },
  {
   "cell_type": "code",
   "execution_count": 34,
   "id": "E6yWRKzUEHl2",
   "metadata": {
    "id": "E6yWRKzUEHl2"
   },
   "outputs": [],
   "source": [
    "model = build_model(states,actions)"
   ]
  },
  {
   "cell_type": "code",
   "execution_count": 35,
   "id": "1PGADNmqEJYj",
   "metadata": {
    "colab": {
     "base_uri": "https://localhost:8080/"
    },
    "id": "1PGADNmqEJYj",
    "outputId": "9d2b4e03-5fd5-441d-8c92-25553e29e5f0"
   },
   "outputs": [
    {
     "name": "stdout",
     "output_type": "stream",
     "text": [
      "Model: \"sequential_5\"\n",
      "_________________________________________________________________\n",
      " Layer (type)                Output Shape              Param #   \n",
      "=================================================================\n",
      " flatten_5 (Flatten)         (None, 4)                 0         \n",
      "                                                                 \n",
      " dense_15 (Dense)            (None, 24)                120       \n",
      "                                                                 \n",
      " dense_16 (Dense)            (None, 24)                600       \n",
      "                                                                 \n",
      " dense_17 (Dense)            (None, 2)                 50        \n",
      "                                                                 \n",
      "=================================================================\n",
      "Total params: 770\n",
      "Trainable params: 770\n",
      "Non-trainable params: 0\n",
      "_________________________________________________________________\n"
     ]
    }
   ],
   "source": [
    "model.summary()"
   ]
  },
  {
   "cell_type": "code",
   "execution_count": 36,
   "id": "Ny-QPwcrEOHk",
   "metadata": {
    "id": "Ny-QPwcrEOHk"
   },
   "outputs": [],
   "source": [
    "def build_agent(model, actions):\n",
    "    policy = BoltzmannQPolicy()\n",
    "    memory = SequentialMemory(limit=50000,window_length=1)\n",
    "    dqn = DQNAgent(model=model,memory=memory,policy=policy,\n",
    "                  nb_actions=actions,nb_steps_warmup=10,target_model_update=1e-2)\n",
    "    return dqn"
   ]
  },
  {
   "cell_type": "code",
   "execution_count": 37,
   "id": "KUifN1PkEOdh",
   "metadata": {
    "colab": {
     "base_uri": "https://localhost:8080/"
    },
    "id": "KUifN1PkEOdh",
    "outputId": "cb9e614a-5776-43e4-df7d-8f210232b29f"
   },
   "outputs": [
    {
     "name": "stdout",
     "output_type": "stream",
     "text": [
      "Training for 100000 steps ...\n",
      "Interval 1 (0 steps performed)\n",
      "\r",
      "    1/10000 [..............................] - ETA: 19:38 - reward: 1.0000"
     ]
    },
    {
     "name": "stderr",
     "output_type": "stream",
     "text": [
      "C:\\Users\\jmimoso\\AppData\\Local\\anaconda3\\lib\\site-packages\\rl\\memory.py:37: UserWarning: Not enough entries to sample without replacement. Consider increasing your warm-up phase to avoid oversampling!\n",
      "  warnings.warn('Not enough entries to sample without replacement. Consider increasing your warm-up phase to avoid oversampling!')\n"
     ]
    },
    {
     "name": "stdout",
     "output_type": "stream",
     "text": [
      "10000/10000 [==============================] - 83s 8ms/step - reward: 1.0000\n",
      "106 episodes - episode_reward: 94.198 [10.000, 288.000] - loss: 1.681 - mae: 19.242 - mean_q: 39.080\n",
      "\n",
      "Interval 2 (10000 steps performed)\n",
      "10000/10000 [==============================] - 91s 9ms/step - reward: 1.0000\n",
      "51 episodes - episode_reward: 193.412 [151.000, 285.000] - loss: 2.638 - mae: 38.050 - mean_q: 77.010\n",
      "\n",
      "Interval 3 (20000 steps performed)\n",
      "10000/10000 [==============================] - 70s 7ms/step - reward: 1.0000\n",
      "44 episodes - episode_reward: 227.477 [165.000, 390.000] - loss: 1.909 - mae: 40.231 - mean_q: 81.237\n",
      "\n",
      "Interval 4 (30000 steps performed)\n",
      "10000/10000 [==============================] - 70s 7ms/step - reward: 1.0000\n",
      "37 episodes - episode_reward: 264.135 [204.000, 427.000] - loss: 1.820 - mae: 45.355 - mean_q: 91.661\n",
      "\n",
      "Interval 5 (40000 steps performed)\n",
      "10000/10000 [==============================] - 67s 7ms/step - reward: 1.0000\n",
      "24 episodes - episode_reward: 429.875 [226.000, 500.000] - loss: 2.610 - mae: 46.873 - mean_q: 94.434\n",
      "\n",
      "Interval 6 (50000 steps performed)\n",
      "10000/10000 [==============================] - 70s 7ms/step - reward: 1.0000\n",
      "26 episodes - episode_reward: 379.615 [150.000, 500.000] - loss: 5.338 - mae: 48.818 - mean_q: 97.859\n",
      "\n",
      "Interval 7 (60000 steps performed)\n",
      "10000/10000 [==============================] - 69s 7ms/step - reward: 1.0000\n",
      "28 episodes - episode_reward: 354.821 [167.000, 500.000] - loss: 6.133 - mae: 52.749 - mean_q: 105.920\n",
      "\n",
      "Interval 8 (70000 steps performed)\n",
      "10000/10000 [==============================] - 81s 8ms/step - reward: 1.0000\n",
      "38 episodes - episode_reward: 267.632 [29.000, 500.000] - loss: 5.626 - mae: 53.330 - mean_q: 106.932\n",
      "\n",
      "Interval 9 (80000 steps performed)\n",
      "10000/10000 [==============================] - 89s 9ms/step - reward: 1.0000\n",
      "36 episodes - episode_reward: 279.611 [123.000, 500.000] - loss: 5.398 - mae: 50.468 - mean_q: 101.216\n",
      "\n",
      "Interval 10 (90000 steps performed)\n",
      "10000/10000 [==============================] - 187s 19ms/step - reward: 1.0000\n",
      "done, took 876.810 seconds\n"
     ]
    },
    {
     "data": {
      "text/plain": [
       "<keras.callbacks.History at 0x263f48338e0>"
      ]
     },
     "execution_count": 37,
     "metadata": {},
     "output_type": "execute_result"
    }
   ],
   "source": [
    "dqn = build_agent(model,actions)\n",
    "#Adam._name = 'Adam'\n",
    "\n",
    "dqn.compile(Adam(learning_rate=1e-3), metrics=['mae'])\n",
    "#I had to train the model with twice the number of steps(comparing to the tutorial) to achieve the expected result\n",
    "dqn.fit(env,nb_steps=100000,visualize=False,verbose=1) "
   ]
  },
  {
   "cell_type": "code",
   "execution_count": 38,
   "id": "Fd_JxTR2EOwi",
   "metadata": {
    "colab": {
     "base_uri": "https://localhost:8080/"
    },
    "id": "Fd_JxTR2EOwi",
    "outputId": "153cdabe-da1d-49dd-9a5c-ab9353be66d7"
   },
   "outputs": [
    {
     "name": "stdout",
     "output_type": "stream",
     "text": [
      "Testing for 100 episodes ...\n",
      "Episode 1: reward: 500.000, steps: 500\n",
      "Episode 2: reward: 500.000, steps: 500\n",
      "Episode 3: reward: 500.000, steps: 500\n",
      "Episode 4: reward: 500.000, steps: 500\n",
      "Episode 5: reward: 500.000, steps: 500\n",
      "Episode 6: reward: 500.000, steps: 500\n",
      "Episode 7: reward: 500.000, steps: 500\n",
      "Episode 8: reward: 500.000, steps: 500\n",
      "Episode 9: reward: 500.000, steps: 500\n",
      "Episode 10: reward: 500.000, steps: 500\n",
      "Episode 11: reward: 500.000, steps: 500\n",
      "Episode 12: reward: 500.000, steps: 500\n",
      "Episode 13: reward: 500.000, steps: 500\n",
      "Episode 14: reward: 500.000, steps: 500\n",
      "Episode 15: reward: 500.000, steps: 500\n",
      "Episode 16: reward: 500.000, steps: 500\n",
      "Episode 17: reward: 500.000, steps: 500\n",
      "Episode 18: reward: 500.000, steps: 500\n",
      "Episode 19: reward: 500.000, steps: 500\n",
      "Episode 20: reward: 500.000, steps: 500\n",
      "Episode 21: reward: 500.000, steps: 500\n",
      "Episode 22: reward: 500.000, steps: 500\n",
      "Episode 23: reward: 500.000, steps: 500\n",
      "Episode 24: reward: 500.000, steps: 500\n",
      "Episode 25: reward: 500.000, steps: 500\n",
      "Episode 26: reward: 500.000, steps: 500\n",
      "Episode 27: reward: 500.000, steps: 500\n",
      "Episode 28: reward: 500.000, steps: 500\n",
      "Episode 29: reward: 500.000, steps: 500\n",
      "Episode 30: reward: 500.000, steps: 500\n",
      "Episode 31: reward: 500.000, steps: 500\n",
      "Episode 32: reward: 500.000, steps: 500\n",
      "Episode 33: reward: 500.000, steps: 500\n",
      "Episode 34: reward: 500.000, steps: 500\n",
      "Episode 35: reward: 500.000, steps: 500\n",
      "Episode 36: reward: 500.000, steps: 500\n",
      "Episode 37: reward: 500.000, steps: 500\n",
      "Episode 38: reward: 500.000, steps: 500\n",
      "Episode 39: reward: 500.000, steps: 500\n",
      "Episode 40: reward: 500.000, steps: 500\n",
      "Episode 41: reward: 500.000, steps: 500\n",
      "Episode 42: reward: 500.000, steps: 500\n",
      "Episode 43: reward: 500.000, steps: 500\n",
      "Episode 44: reward: 500.000, steps: 500\n",
      "Episode 45: reward: 500.000, steps: 500\n",
      "Episode 46: reward: 500.000, steps: 500\n",
      "Episode 47: reward: 500.000, steps: 500\n",
      "Episode 48: reward: 500.000, steps: 500\n",
      "Episode 49: reward: 500.000, steps: 500\n",
      "Episode 50: reward: 500.000, steps: 500\n",
      "Episode 51: reward: 500.000, steps: 500\n",
      "Episode 52: reward: 500.000, steps: 500\n",
      "Episode 53: reward: 500.000, steps: 500\n",
      "Episode 54: reward: 500.000, steps: 500\n",
      "Episode 55: reward: 500.000, steps: 500\n",
      "Episode 56: reward: 500.000, steps: 500\n",
      "Episode 57: reward: 500.000, steps: 500\n",
      "Episode 58: reward: 500.000, steps: 500\n",
      "Episode 59: reward: 500.000, steps: 500\n",
      "Episode 60: reward: 500.000, steps: 500\n",
      "Episode 61: reward: 500.000, steps: 500\n",
      "Episode 62: reward: 500.000, steps: 500\n",
      "Episode 63: reward: 500.000, steps: 500\n",
      "Episode 64: reward: 500.000, steps: 500\n",
      "Episode 65: reward: 500.000, steps: 500\n",
      "Episode 66: reward: 500.000, steps: 500\n",
      "Episode 67: reward: 500.000, steps: 500\n",
      "Episode 68: reward: 500.000, steps: 500\n",
      "Episode 69: reward: 500.000, steps: 500\n",
      "Episode 70: reward: 500.000, steps: 500\n",
      "Episode 71: reward: 500.000, steps: 500\n",
      "Episode 72: reward: 500.000, steps: 500\n",
      "Episode 73: reward: 500.000, steps: 500\n",
      "Episode 74: reward: 500.000, steps: 500\n",
      "Episode 75: reward: 500.000, steps: 500\n",
      "Episode 76: reward: 500.000, steps: 500\n",
      "Episode 77: reward: 500.000, steps: 500\n",
      "Episode 78: reward: 500.000, steps: 500\n",
      "Episode 79: reward: 500.000, steps: 500\n",
      "Episode 80: reward: 500.000, steps: 500\n",
      "Episode 81: reward: 500.000, steps: 500\n",
      "Episode 82: reward: 500.000, steps: 500\n",
      "Episode 83: reward: 500.000, steps: 500\n",
      "Episode 84: reward: 500.000, steps: 500\n",
      "Episode 85: reward: 500.000, steps: 500\n",
      "Episode 86: reward: 500.000, steps: 500\n",
      "Episode 87: reward: 500.000, steps: 500\n",
      "Episode 88: reward: 500.000, steps: 500\n",
      "Episode 89: reward: 500.000, steps: 500\n",
      "Episode 90: reward: 500.000, steps: 500\n",
      "Episode 91: reward: 500.000, steps: 500\n",
      "Episode 92: reward: 500.000, steps: 500\n",
      "Episode 93: reward: 500.000, steps: 500\n",
      "Episode 94: reward: 500.000, steps: 500\n",
      "Episode 95: reward: 500.000, steps: 500\n",
      "Episode 96: reward: 500.000, steps: 500\n",
      "Episode 97: reward: 500.000, steps: 500\n",
      "Episode 98: reward: 500.000, steps: 500\n",
      "Episode 99: reward: 500.000, steps: 500\n",
      "Episode 100: reward: 500.000, steps: 500\n",
      "500.0\n"
     ]
    }
   ],
   "source": [
    "scores = dqn.test(env, nb_episodes=100, visualize=False)\n",
    "print(np.mean(scores.history['episode_reward']))"
   ]
  },
  {
   "cell_type": "code",
   "execution_count": 39,
   "id": "G7kb8LE5I8tB",
   "metadata": {
    "colab": {
     "base_uri": "https://localhost:8080/"
    },
    "id": "G7kb8LE5I8tB",
    "outputId": "c6708a1d-1e52-4919-f412-1d265686ba80"
   },
   "outputs": [
    {
     "name": "stdout",
     "output_type": "stream",
     "text": [
      "Testing for 15 episodes ...\n",
      "Episode 1: reward: 500.000, steps: 500\n",
      "Episode 2: reward: 500.000, steps: 500\n",
      "Episode 3: reward: 500.000, steps: 500\n",
      "Episode 4: reward: 500.000, steps: 500\n",
      "Episode 5: reward: 500.000, steps: 500\n",
      "Episode 6: reward: 500.000, steps: 500\n",
      "Episode 7: reward: 500.000, steps: 500\n",
      "Episode 8: reward: 500.000, steps: 500\n",
      "Episode 9: reward: 500.000, steps: 500\n",
      "Episode 10: reward: 500.000, steps: 500\n",
      "Episode 11: reward: 500.000, steps: 500\n",
      "Episode 12: reward: 500.000, steps: 500\n",
      "Episode 13: reward: 500.000, steps: 500\n",
      "Episode 14: reward: 500.000, steps: 500\n",
      "Episode 15: reward: 500.000, steps: 500\n"
     ]
    }
   ],
   "source": [
    "#lets test again with more 15 episodes\n",
    "_ = dqn.test(env, nb_episodes=15, visualize=True)\n"
   ]
  },
  {
   "cell_type": "markdown",
   "id": "ktgWqwUE1M7F",
   "metadata": {
    "id": "ktgWqwUE1M7F"
   },
   "source": [
    "# 4. Reload Agent from Memory"
   ]
  },
  {
   "cell_type": "code",
   "execution_count": 40,
   "id": "lTah1BG31RTk",
   "metadata": {
    "id": "lTah1BG31RTk"
   },
   "outputs": [],
   "source": [
    "dqn.save_weights('dqn_carpolev0_weights.h5f',overwrite=True)"
   ]
  },
  {
   "cell_type": "code",
   "execution_count": 41,
   "id": "9ZpccQ1Z8Uvd",
   "metadata": {
    "id": "9ZpccQ1Z8Uvd"
   },
   "outputs": [],
   "source": [
    "del model\n",
    "del dqn \n",
    "del env"
   ]
  },
  {
   "cell_type": "code",
   "execution_count": 42,
   "id": "BPaGTxh_8gne",
   "metadata": {
    "colab": {
     "base_uri": "https://localhost:8080/"
    },
    "id": "BPaGTxh_8gne",
    "outputId": "1f488a4e-583b-4854-c58e-d1fa0c423183",
    "scrolled": true
   },
   "outputs": [
    {
     "name": "stderr",
     "output_type": "stream",
     "text": [
      "Exception ignored in: <function Viewer.__del__ at 0x00000263EDF4A7A0>\n",
      "Traceback (most recent call last):\n",
      "  File \"C:\\Users\\jmimoso\\AppData\\Local\\anaconda3\\lib\\site-packages\\gym\\envs\\classic_control\\rendering.py\", line 165, in __del__\n",
      "    self.close()\n",
      "  File \"C:\\Users\\jmimoso\\AppData\\Local\\anaconda3\\lib\\site-packages\\gym\\envs\\classic_control\\rendering.py\", line 83, in close\n",
      "    self.window.close()\n",
      "  File \"C:\\Users\\jmimoso\\AppData\\Local\\anaconda3\\lib\\site-packages\\pyglet\\window\\win32\\__init__.py\", line 299, in close\n",
      "    super(Win32Window, self).close()\n",
      "  File \"C:\\Users\\jmimoso\\AppData\\Local\\anaconda3\\lib\\site-packages\\pyglet\\window\\__init__.py\", line 823, in close\n",
      "    app.windows.remove(self)\n",
      "  File \"C:\\Users\\jmimoso\\AppData\\Local\\anaconda3\\lib\\_weakrefset.py\", line 114, in remove\n",
      "    self.data.remove(ref(item))\n",
      "KeyError: <weakref at 0x00000263F465FEC0; to 'Win32Window' at 0x00000263F493E7D0>\n"
     ]
    }
   ],
   "source": [
    "env = gym.make('CartPole-v1') \n",
    "\n",
    "actions = env.action_space.n\n",
    "states = env.observation_space.shape[0]\n",
    "model = build_model(states, actions)\n",
    "\n",
    "dqn = build_agent(model,actions)\n",
    "dqn.compile(Adam(learning_rate=1e-3),metrics=['mae'])"
   ]
  },
  {
   "cell_type": "code",
   "execution_count": 43,
   "id": "uMylR0LT9HoD",
   "metadata": {
    "id": "uMylR0LT9HoD"
   },
   "outputs": [],
   "source": [
    "dqn.load_weights('dqn_carpolev0_weights.h5f')"
   ]
  },
  {
   "cell_type": "code",
   "execution_count": 44,
   "id": "oky_drKJ9RyE",
   "metadata": {
    "colab": {
     "base_uri": "https://localhost:8080/"
    },
    "id": "oky_drKJ9RyE",
    "outputId": "96d4b665-5fc6-4b54-a58f-9631414b6501"
   },
   "outputs": [
    {
     "name": "stdout",
     "output_type": "stream",
     "text": [
      "Testing for 15 episodes ...\n",
      "Episode 1: reward: 500.000, steps: 500\n",
      "Episode 2: reward: 500.000, steps: 500\n",
      "Episode 3: reward: 500.000, steps: 500\n",
      "Episode 4: reward: 500.000, steps: 500\n",
      "Episode 5: reward: 500.000, steps: 500\n",
      "Episode 6: reward: 500.000, steps: 500\n",
      "Episode 7: reward: 500.000, steps: 500\n",
      "Episode 8: reward: 500.000, steps: 500\n",
      "Episode 9: reward: 500.000, steps: 500\n",
      "Episode 10: reward: 500.000, steps: 500\n",
      "Episode 11: reward: 500.000, steps: 500\n",
      "Episode 12: reward: 500.000, steps: 500\n",
      "Episode 13: reward: 500.000, steps: 500\n",
      "Episode 14: reward: 500.000, steps: 500\n",
      "Episode 15: reward: 500.000, steps: 500\n"
     ]
    }
   ],
   "source": [
    "#lets test again with more 15 episodes\n",
    "_ = dqn.test(env, nb_episodes=15, visualize=True)\n",
    "env.close()"
   ]
  }
 ],
 "metadata": {
  "colab": {
   "collapsed_sections": [],
   "provenance": []
  },
  "kernelspec": {
   "display_name": "Python 3 (ipykernel)",
   "language": "python",
   "name": "python3"
  },
  "language_info": {
   "codemirror_mode": {
    "name": "ipython",
    "version": 3
   },
   "file_extension": ".py",
   "mimetype": "text/x-python",
   "name": "python",
   "nbconvert_exporter": "python",
   "pygments_lexer": "ipython3",
   "version": "3.10.9"
  }
 },
 "nbformat": 4,
 "nbformat_minor": 5
}
